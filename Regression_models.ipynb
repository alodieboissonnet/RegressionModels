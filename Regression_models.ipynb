{
  "nbformat": 4,
  "nbformat_minor": 0,
  "metadata": {
    "anaconda-cloud": {},
    "kernelspec": {
      "display_name": "Python 3",
      "language": "python",
      "name": "python3"
    },
    "language_info": {
      "codemirror_mode": {
        "name": "ipython",
        "version": 3
      },
      "file_extension": ".py",
      "mimetype": "text/x-python",
      "name": "python",
      "nbconvert_exporter": "python",
      "pygments_lexer": "ipython3",
      "version": "3.6.5"
    },
    "colab": {
      "name": "Copie de Copie de lab.ipynb",
      "provenance": [],
      "collapsed_sections": []
    }
  },
  "cells": [
    {
      "cell_type": "markdown",
      "metadata": {
        "id": "C7nZTbe9mHub",
        "colab_type": "text"
      },
      "source": [
        "# First order methods for regression models\n",
        "\n",
        "## Aim\n",
        "\n",
        "The aim of this practical is to implement:\n",
        "- gradient descent (GD);\n",
        "- accelerated gradient descent (AGD);\n",
        "- coordinate gradient descent (CD);\n",
        "- stochastic gradient descent (SGD);\n",
        "- stochastic variance reduced gradient descent (SVRG);\n",
        "\n",
        "for the linear regression and logistic regression models, with the ridge penalization."
      ]
    },
    {
      "cell_type": "markdown",
      "metadata": {
        "id": "NPZTaCVhmHun",
        "colab_type": "text"
      },
      "source": [
        "# Table of content\n",
        "\n",
        "[1. Introduction](#intro)<br>\n",
        "[2. Models gradients and losses](#models)<br>\n",
        "[3. Solvers](#solvers)<br>\n",
        "[4. Comparison of all algorithms](#comparison)<br>\n",
        "\n",
        "<a id='intro'></a>\n",
        "# 1. Introduction\n",
        "\n",
        "## 1.1. Getting model weights\n",
        "\n",
        "We'll start by generating sparse vectors and simulating data."
      ]
    },
    {
      "cell_type": "code",
      "metadata": {
        "id": "qym8Qm2EmHup",
        "colab_type": "code",
        "colab": {}
      },
      "source": [
        "import numpy as np\n",
        "import matplotlib.pyplot as plt\n",
        "\n",
        "%matplotlib inline\n",
        "\n",
        "np.set_printoptions(precision=2)  # to have simpler print outputs with numpy"
      ],
      "execution_count": 0,
      "outputs": []
    },
    {
      "cell_type": "markdown",
      "metadata": {
        "id": "W5kZEOWjmHuu",
        "colab_type": "text"
      },
      "source": [
        "## 1.2. Simulation of a linear model"
      ]
    },
    {
      "cell_type": "code",
      "metadata": {
        "id": "vPtoBTy6mHuw",
        "colab_type": "code",
        "colab": {}
      },
      "source": [
        "from numpy.random import multivariate_normal\n",
        "from scipy.linalg.special_matrices import toeplitz\n",
        "from numpy.random import randn\n",
        "\n",
        "\n",
        "def simu_linreg(w0, n_samples=1000, corr=0.5, std=0.5):\n",
        "    \"\"\"Simulation of a linear regression model with Gaussian features\n",
        "    and a Toeplitz covariance, with Gaussian noise.\n",
        "    \n",
        "    Parameters\n",
        "    ----------\n",
        "    w0 : `numpy.array`, shape=(n_features,)\n",
        "        Model weights\n",
        "    \n",
        "    n_samples : `int`, default=1000\n",
        "        Number of samples to simulate\n",
        "    \n",
        "    corr : `float`, default=0.5\n",
        "        Correlation of the features\n",
        "    \n",
        "    std : `float`, default=0.5\n",
        "        Standard deviation of the noise\n",
        "\n",
        "    Returns\n",
        "    -------\n",
        "    X : `numpy.ndarray`, shape=(n_samples, n_features)\n",
        "        Simulated features matrix. It contains samples of a centered \n",
        "        Gaussian  vector with Toeplitz covariance.\n",
        "    \n",
        "    y : `numpy.array`, shape=(n_samples,)\n",
        "        Simulated labels\n",
        "    \"\"\"\n",
        "    n_features = w0.shape[0]\n",
        "    # Construction of a covariance matrix\n",
        "    cov = toeplitz(corr ** np.arange(0, n_features))\n",
        "    # Simulation of features\n",
        "    X = multivariate_normal(np.zeros(n_features), cov, size=n_samples)\n",
        "    # Simulation of the labels\n",
        "    y = X.dot(w0) + std * randn(n_samples)\n",
        "    return X, y"
      ],
      "execution_count": 0,
      "outputs": []
    },
    {
      "cell_type": "code",
      "metadata": {
        "id": "AkFfbkvNmHu0",
        "colab_type": "code",
        "outputId": "2b734e30-447c-493f-aa34-668eb5a6ef42",
        "colab": {
          "base_uri": "https://localhost:8080/",
          "height": 322
        }
      },
      "source": [
        "n_samples = 500\n",
        "w0 = np.array([0.5])\n",
        "\n",
        "X, y = simu_linreg(w0, n_samples=n_samples, corr=0.3, std=0.5)\n",
        "plt.scatter(X, y)\n",
        "plt.xlabel(r\"$x_i$\", fontsize=16)\n",
        "plt.ylabel(r\"$y_i$\", fontsize=16)\n",
        "plt.title(\"Linear regression simulation\", fontsize=18)\n",
        "plt.scatter(X, y, label='data')\n",
        "plt.legend()"
      ],
      "execution_count": 0,
      "outputs": [
        {
          "output_type": "execute_result",
          "data": {
            "text/plain": [
              "<matplotlib.legend.Legend at 0x7fbc712196a0>"
            ]
          },
          "metadata": {
            "tags": []
          },
          "execution_count": 83
        },
        {
          "output_type": "display_data",
          "data": {
            "image/png": "[encoded data removed]",
            "text/plain": [
              "<Figure size 432x288 with 1 Axes>"
            ]
          },
          "metadata": {
            "tags": []
          }
        }
      ]
    },
    {
      "cell_type": "markdown",
      "metadata": {
        "id": "fncFc6YUmHu5",
        "colab_type": "text"
      },
      "source": [
        "## 1.3. Simulation of a logistic regression model"
      ]
    },
    {
      "cell_type": "code",
      "metadata": {
        "id": "feEP3fcLmHu6",
        "colab_type": "code",
        "colab": {}
      },
      "source": [
        "def sigmoid(t):\n",
        "    \"\"\"Sigmoid function (overflow-proof)\"\"\"\n",
        "    idx = t > 0\n",
        "    out = np.empty(t.size)    \n",
        "    out[idx] = 1 / (1. + np.exp(-t[idx]))\n",
        "    exp_t = np.exp(t[~idx])\n",
        "    out[~idx] = exp_t / (1. + exp_t)\n",
        "    return out\n",
        "\n",
        "def simu_logreg(w0, n_samples=1000, corr=0.5):\n",
        "    \"\"\"Simulation of a logistic regression model with Gaussian features\n",
        "    and a Toeplitz covariance.\n",
        "    \n",
        "    Parameters\n",
        "    ----------\n",
        "    w0 : `numpy.array`, shape=(n_features,)\n",
        "        Model weights\n",
        "    \n",
        "    n_samples : `int`, default=1000\n",
        "        Number of samples to simulate\n",
        "    \n",
        "    corr : `float`, default=0.5\n",
        "        Correlation of the features\n",
        "\n",
        "    Returns\n",
        "    -------\n",
        "    X : `numpy.ndarray`, shape=(n_samples, n_features)\n",
        "        Simulated features matrix. It contains samples of a centered \n",
        "        Gaussian vector with Toeplitz covariance.\n",
        "    \n",
        "    y : `numpy.array`, shape=(n_samples,)\n",
        "        Simulated labels\n",
        "    \"\"\"\n",
        "    n_features = w0.shape[0]\n",
        "    cov = toeplitz(corr ** np.arange(0, n_features))\n",
        "    X = multivariate_normal(np.zeros(n_features), cov, size=n_samples)\n",
        "    p = sigmoid(X.dot(w0))\n",
        "    y = np.random.binomial(1, p, size=n_samples)\n",
        "    # Put the label in {-1, 1}\n",
        "    y[:] = 2 * y - 1\n",
        "    return X, y"
      ],
      "execution_count": 0,
      "outputs": []
    },
    {
      "cell_type": "code",
      "metadata": {
        "id": "GMp-BGjemHvA",
        "colab_type": "code",
        "outputId": "3e1412ee-af8d-4368-87dd-5cf41b6fa63c",
        "colab": {
          "base_uri": "https://localhost:8080/",
          "height": 331
        }
      },
      "source": [
        "n_samples = 500\n",
        "w0 = np.array([-3, 3.])\n",
        "\n",
        "X, y = simu_logreg(w0, n_samples=n_samples, corr=0.4)\n",
        "\n",
        "plt.scatter(*X[y == 1].T, color='b', s=10, label=r'$y_i=1$')\n",
        "plt.scatter(*X[y == -1].T, color='r', s=10, label=r'$y_i=-1$')\n",
        "plt.legend(loc='upper left')\n",
        "plt.xlabel(r\"$x_i^1$\", fontsize=16)\n",
        "plt.ylabel(r\"$x_i^2$\", fontsize=16)\n",
        "plt.title(\"Logistic regression simulation\", fontsize=18)"
      ],
      "execution_count": 0,
      "outputs": [
        {
          "output_type": "execute_result",
          "data": {
            "text/plain": [
              "Text(0.5, 1.0, 'Logistic regression simulation')"
            ]
          },
          "metadata": {
            "tags": []
          },
          "execution_count": 85
        },
        {
          "output_type": "display_data",
          "data": {
            "image/png": "[encoded data removed]",
            "text/plain": [
              "<Figure size 432x288 with 1 Axes>"
            ]
          },
          "metadata": {
            "tags": []
          }
        }
      ]
    },
    {
      "cell_type": "markdown",
      "metadata": {
        "id": "tL5UknvbmHvD",
        "colab_type": "text"
      },
      "source": [
        "<a id='models'></a>\n",
        "# 2. Models gradients and losses\n",
        "\n",
        "We want to minimize a goodness-of-fit function $h$ with ridge regularization, namely\n",
        "$$\n",
        "\\arg\\min_{w \\in \\mathbb R^d} \\Big\\{ h(w) + \\frac{\\lambda}{2} \\|w\\|_2^2 \\Big\\}\n",
        "$$\n",
        "where $d$ is the number of features and where we will assume that $h$ is $L$-smooth.\n",
        "We will consider below the following cases.\n",
        "\n",
        "**Linear regression**, where \n",
        "$$\n",
        "f(w) = \\frac 1n \\sum_{i=1}^n f_i(w) = \\frac{1}{2n} \\sum_{i=1}^n (y_i - x_i^\\top w)^2 + \\frac{\\lambda}{2} \\|w\\|_2^2 = \\frac{1}{2 n} \\| y - X w \\|_2^2 + \\frac{\\lambda}{2} \\|w\\|_2^2,\n",
        "$$\n",
        "where $n$ is the sample size, $y = [y_1 \\cdots y_n]$ is the vector of labels and $X$ is the matrix of features with lines containing the features vectors $x_i \\in \\mathbb R^d$.\n",
        "\n",
        "**Logistic regression**, where\n",
        "$$\n",
        "f(w) = \\frac 1n \\sum_{i=1}^n f_i(w) = \\frac{1}{n} \\sum_{i=1}^n \\log(1 + \\exp(-y_i x_i^\\top w)) + \\frac{\\lambda}{2} \\|w\\|_2^2,\n",
        "$$\n",
        "where $n$ is the sample size, and where labels $y_i \\in \\{ -1, 1 \\}$ for all $i$.\n",
        "\n",
        "We need to be able to compute $f(w)$ and its gradient $\\nabla f(w)$, in order to solve this problem, as well as $\\nabla f_i(w)$ for stochastic gradient descent methods and $\\frac{\\partial f(w)}{\\partial w_j}$ for coordinate descent.\n",
        "\n",
        "Below is the full implementation for linear regression.\n",
        "\n",
        "## 2.1 Linear regression"
      ]
    },
    {
      "cell_type": "code",
      "metadata": {
        "id": "wuJVWHz8mHvE",
        "colab_type": "code",
        "colab": {}
      },
      "source": [
        "from numpy.linalg import norm\n",
        "\n",
        "\n",
        "class ModelLinReg:\n",
        "    \"\"\"A class giving first order information for linear regression\n",
        "    with least-squares loss\n",
        "    \n",
        "    Parameters\n",
        "    ----------\n",
        "    X : `numpy.array`, shape=(n_samples, n_features)\n",
        "        The features matrix\n",
        "    \n",
        "    y : `numpy.array`, shape=(n_samples,)\n",
        "        The vector of labels\n",
        "    \n",
        "    strength : `float`\n",
        "        The strength of ridge penalization\n",
        "    \"\"\"    \n",
        "    def __init__(self, X, y, strength):\n",
        "        self.X = X\n",
        "        self.y = y\n",
        "        self.strength = strength\n",
        "        self.n_samples, self.n_features = X.shape\n",
        "    \n",
        "    def loss(self, w):\n",
        "        \"\"\"Computes f(w)\"\"\"\n",
        "        y, X, n_samples, strength = self.y, self.X, self.n_samples, self.strength\n",
        "        return 0.5 * norm(y - X.dot(w)) ** 2 / n_samples + strength * norm(w) ** 2 / 2\n",
        "    \n",
        "    def grad(self, w):\n",
        "        \"\"\"Computes the gradient of f at w\"\"\"\n",
        "        y, X, n_samples, strength = self.y, self.X, self.n_samples, self.strength\n",
        "        return X.T.dot(X.dot(w) - y) / n_samples + strength * w\n",
        "\n",
        "    def grad_i(self, i, w):\n",
        "        \"\"\"Computes the gradient of f_i at w\"\"\"\n",
        "        x_i = self.X[i]\n",
        "        return (x_i.dot(w) - y[i]) * x_i + self.strength * w\n",
        "\n",
        "    def grad_coordinate(self, j, w):\n",
        "        \"\"\"Computes the partial derivative of f with respect to \n",
        "        the j-th coordinate\"\"\"\n",
        "        y, X, n_samples, strength = self.y, self.X, self.n_samples, self.strength\n",
        "        return X[:, j].T.dot(X.dot(w) - y) / n_samples + strength * w[j]\n",
        "\n",
        "    def lip(self):\n",
        "        \"\"\"Computes the Lipschitz constant of the gradient of f\"\"\"\n",
        "        X, n_samples = self.X, self.n_samples\n",
        "        return norm(X.T.dot(X), 2) / n_samples + self.strength\n",
        "\n",
        "    def lip_coordinates(self):\n",
        "        \"\"\"Computes the Lipschitz constant of the partial derivative of f with respect to \n",
        "        the j-th coordinate\"\"\"\n",
        "        X, n_samples = self.X, self.n_samples\n",
        "        return (X ** 2).sum(axis=0) / n_samples + self.strength\n",
        "        \n",
        "    def lip_max(self):\n",
        "        \"\"\"Computes the maximum of the lipschitz constants of the gradient of f_i\"\"\"\n",
        "        X, n_samples = self.X, self.n_samples\n",
        "        return ((X ** 2).sum(axis=1) + self.strength).max()"
      ],
      "execution_count": 0,
      "outputs": []
    },
    {
      "cell_type": "markdown",
      "metadata": {
        "id": "xJKCS_-UmHvI",
        "colab_type": "text"
      },
      "source": [
        "## 2.2 Checks for the linear regression model"
      ]
    },
    {
      "cell_type": "code",
      "metadata": {
        "id": "Edp7cxQDmHvK",
        "colab_type": "code",
        "outputId": "9c72d09d-bc51-44a6-f73f-9296bb5c2f53",
        "colab": {
          "base_uri": "https://localhost:8080/",
          "height": 244
        }
      },
      "source": [
        "## Simulation setting\n",
        "n_features = 50\n",
        "nnz = 20\n",
        "idx = np.arange(n_features)\n",
        "w0 = (-1) ** idx * np.exp(-idx / 10.)\n",
        "w0[nnz:] = 0.\n",
        "\n",
        "plt.figure(figsize=(5, 3))\n",
        "plt.stem(w0, use_line_collection=True)\n",
        "plt.title(\"Model weights\")"
      ],
      "execution_count": 0,
      "outputs": [
        {
          "output_type": "execute_result",
          "data": {
            "text/plain": [
              "Text(0.5, 1.0, 'Model weights')"
            ]
          },
          "metadata": {
            "tags": []
          },
          "execution_count": 87
        },
        {
          "output_type": "display_data",
          "data": {
            "image/png": "[encoded data removed]",
            "text/plain": [
              "<Figure size 360x216 with 1 Axes>"
            ]
          },
          "metadata": {
            "tags": []
          }
        }
      ]
    },
    {
      "cell_type": "code",
      "metadata": {
        "scrolled": true,
        "id": "lfDAAZKmmHvO",
        "colab_type": "code",
        "outputId": "2cadece0-67e3-4a91-aeed-87bd23437328",
        "colab": {
          "base_uri": "https://localhost:8080/",
          "height": 34
        }
      },
      "source": [
        "from scipy.optimize import check_grad\n",
        "\n",
        "X, y = simu_linreg(w0, corr=0.6)\n",
        "model = ModelLinReg(X, y, strength=1e-3)\n",
        "\n",
        "w = np.random.randn(n_features)\n",
        "\n",
        "print(check_grad(model.loss, model.grad, w)) # This must be a number (of order 1e-6)"
      ],
      "execution_count": 0,
      "outputs": [
        {
          "output_type": "stream",
          "text": [
            "2.436117099473151e-06\n"
          ],
          "name": "stdout"
        }
      ]
    },
    {
      "cell_type": "code",
      "metadata": {
        "scrolled": true,
        "id": "4j80gbEPmHvR",
        "colab_type": "code",
        "outputId": "92c90347-16c4-4f8b-9d42-ed62b5c0441d",
        "colab": {
          "base_uri": "https://localhost:8080/",
          "height": 123
        }
      },
      "source": [
        "print(\"lip=\", model.lip())\n",
        "print(\"lip_max=\", model.lip_max())\n",
        "print(\"lip_coordinates=\", model.lip_coordinates())"
      ],
      "execution_count": 0,
      "outputs": [
        {
          "output_type": "stream",
          "text": [
            "lip= 4.185409275453197\n",
            "lip_max= 135.6523321735805\n",
            "lip_coordinates= [0.95 0.99 1.04 1.01 1.08 1.02 1.03 1.05 1.02 1.07 1.03 1.   1.02 1.01\n",
            " 1.   1.01 1.03 1.02 0.99 0.95 1.   1.01 1.03 1.   1.03 0.98 1.04 0.99\n",
            " 0.96 0.94 1.   1.   0.95 0.99 0.98 0.96 0.91 0.9  1.   0.97 1.04 1.02\n",
            " 0.94 1.05 1.05 0.95 1.02 0.99 1.03 1.01]\n"
          ],
          "name": "stdout"
        }
      ]
    },
    {
      "cell_type": "markdown",
      "metadata": {
        "id": "2hbqMS_ymHvU",
        "colab_type": "text"
      },
      "source": [
        "## 2.3 Logistic regression\n",
        "\n",
        "### QUESTIONS\n",
        "\n",
        "1. Compute (on paper) the gradient $\\nabla f$, the gradient of $\\nabla f_i$ and the gradient of the coordinate function $\\frac{\\partial f(w)}{\\partial w_j}$ of $f$ for logistic regression (fill the class given below).\n",
        "\n",
        "2. Fill in the functions below for the computation of $f$, $\\nabla f$, $\\nabla f_i$ and $\\frac{\\partial f(w)}{\\partial w_j}$ for logistic regression in the ModelLogReg class below (fill between the TODO and END TODO)."
      ]
    },
    {
      "cell_type": "markdown",
      "metadata": {
        "id": "nEnsWn_fmHvV",
        "colab_type": "text"
      },
      "source": [
        "**Answer:**\n",
        "…"
      ]
    },
    {
      "cell_type": "code",
      "metadata": {
        "id": "OmiW_SA8mHvW",
        "colab_type": "code",
        "colab": {}
      },
      "source": [
        "# Answer\n",
        "class ModelLogReg:\n",
        "    \"\"\"A class giving first order information for logistic regression\n",
        "    \n",
        "    Parameters\n",
        "    ----------\n",
        "    X : `numpy.array`, shape=(n_samples, n_features)\n",
        "        The features matrix\n",
        "    \n",
        "    y : `numpy.array`, shape=(n_samples,)\n",
        "        The vector of labels\n",
        "    \n",
        "    strength : `float`\n",
        "        The strength of ridge penalization\n",
        "    \"\"\"    \n",
        "    def __init__(self, X, y, strength):\n",
        "        self.X = X\n",
        "        self.y = y\n",
        "        self.strength = strength\n",
        "        self.n_samples, self.n_features = X.shape\n",
        "    \n",
        "    def loss(self, w):\n",
        "        \"\"\"Computes f(w)\"\"\"\n",
        "        y, X, n_samples, strength = self.y, self.X, self.n_samples, self.strength\n",
        "        ### TODO\n",
        "        return (1/n_samples)*np.sum(np.log(1+ np.exp(-y * (X @ w)))) + (strength/2)*(norm(w))**2 \n",
        "        ### END TODO\n",
        "       \n",
        "    def grad(self, w):\n",
        "        \"\"\"Computes the gradient of f at w\"\"\"\n",
        "        y, X, n_samples, strength = self.y, self.X, self.n_samples, self.strength\n",
        "        ### TODO\n",
        "        return (1/n_samples)*np.sum(np.array([self.grad_i(i,w) for i in range(n_samples)]), axis = 0) + strength*w \n",
        "        ### END TODO\n",
        "\n",
        "    def grad_i(self, i, w):\n",
        "        \"\"\"Computes the gradient of f_i at w\"\"\"\n",
        "        x_i = self.X[i]\n",
        "        ### TODO\n",
        "        return -y[i]*x_i*(1/(1 + np.exp(y[i]*x_i.T @ w)))\n",
        "        ### END TODO\n",
        "\n",
        "    def grad_coordinate(self, j, w):\n",
        "        \"\"\"Computes the partial derivative of f with respect to \n",
        "        the j-th coordinate\"\"\"\n",
        "        y, X, n_samples, strength = self.y, self.X, self.n_samples, self.strength\n",
        "        ### TODO\n",
        "        return (1/n_samples)*np.sum(-y*X[:,j].T*(1/(1 + np.exp(y*(X @ w))))) + strength*w[j]\n",
        "        ### END TODO\n",
        "\n",
        "    def lip(self):\n",
        "        \"\"\"Computes the Lipschitz constant of the gradient of f\"\"\"\n",
        "        X, n_samples = self.X, self.n_samples\n",
        "        ### TODO\n",
        "        return (1/4)*max((1/n_samples)*np.linalg.eigvals(X.T @ X)) + self.strength\n",
        "        #The 1/4 factor corresponds with the upper bound of the sigmoid function\n",
        "        ### END TODO\n",
        "\n",
        "    def lip_coordinates(self):\n",
        "        \"\"\"Computes the Lipschitz constant of the partial derivative of f with respect to \n",
        "        the j-th coordinate\"\"\"\n",
        "        X, n_samples = self.X, self.n_samples\n",
        "        ### TODO\n",
        "        return (1/4)*((X ** 2).sum(axis=0) / n_samples) + self.strength\n",
        "        ### END TODO\n",
        "\n",
        "    def lip_max(self):\n",
        "        \"\"\"Computes the maximum of the lipschitz constants of gradient of f_i\"\"\"\n",
        "        X, n_samples = self.X, self.n_samples\n",
        "        ### TODO\n",
        "        return (1/4)*((X ** 2).sum(axis=1)).max() +  self.strength\n",
        "        ### END TODO"
      ],
      "execution_count": 0,
      "outputs": []
    },
    {
      "cell_type": "markdown",
      "metadata": {
        "id": "PM8awgHsmHva",
        "colab_type": "text"
      },
      "source": [
        "## 2.4 Checks for the logistic regression model\n",
        "\n",
        "### QUESTIONS\n",
        "\n",
        "1. Check numerically the gradient using the function ``checkgrad`` from ``scipy.optimize`` (see below), as we did for linear regression above.\n",
        "\n",
        "**Remark**: use the function `simu_logreg` to simulate data according to the logistic regression model."
      ]
    },
    {
      "cell_type": "code",
      "metadata": {
        "id": "ArJeq6fumHvb",
        "colab_type": "code",
        "outputId": "2b9632ac-3993-4701-a687-cf765f507a4b",
        "colab": {
          "base_uri": "https://localhost:8080/",
          "height": 34
        }
      },
      "source": [
        "# Answer\n",
        "from scipy.optimize import check_grad\n",
        "\n",
        "X, y = simu_logreg(w0, corr=0.6)\n",
        "model = ModelLogReg(X, y, strength=1e-3)\n",
        "\n",
        "w = np.random.randn(n_features)\n",
        "\n",
        "print(check_grad(model.loss, model.grad, w)) # This must be a number (of order 1e-6)"
      ],
      "execution_count": 0,
      "outputs": [
        {
          "output_type": "stream",
          "text": [
            "1.5274870285555298e-07\n"
          ],
          "name": "stdout"
        }
      ]
    },
    {
      "cell_type": "code",
      "metadata": {
        "id": "75tnDsXQZabo",
        "colab_type": "code",
        "outputId": "7d4863c9-fe57-4a25-8674-8a1506774ed4",
        "colab": {
          "base_uri": "https://localhost:8080/",
          "height": 123
        }
      },
      "source": [
        "print(\"lip=\", model.lip())\n",
        "print(\"lip_max=\", model.lip_max())\n",
        "print(\"lip_coordinates=\", model.lip_coordinates())"
      ],
      "execution_count": 0,
      "outputs": [
        {
          "output_type": "stream",
          "text": [
            "lip= 1.0387585173021838\n",
            "lip_max= 27.55560309101156\n",
            "lip_coordinates= [0.23 0.22 0.25 0.24 0.24 0.23 0.25 0.25 0.22 0.25 0.24 0.24 0.26 0.24\n",
            " 0.25 0.25 0.28 0.26 0.25 0.26 0.27 0.25 0.26 0.26 0.25 0.26 0.25 0.24\n",
            " 0.24 0.27 0.25 0.25 0.24 0.23 0.25 0.23 0.24 0.25 0.26 0.25 0.26 0.27\n",
            " 0.24 0.26 0.26 0.24 0.25 0.23 0.25 0.25]\n"
          ],
          "name": "stdout"
        }
      ]
    },
    {
      "cell_type": "markdown",
      "metadata": {
        "id": "TEmVSikpmHvi",
        "colab_type": "text"
      },
      "source": [
        "<a id='solvers'></a>\n",
        "## 3. Solvers"
      ]
    },
    {
      "cell_type": "markdown",
      "metadata": {
        "id": "ZkdzFOMymHvj",
        "colab_type": "text"
      },
      "source": [
        "We now have classes `ModelLinReg` and `ModelLogReg` that allow to compute $f(w)$, $\\nabla f(w)$, \n",
        "$\\nabla f_i(w)$ and $\\frac{\\partial f(w)}{\\partial w_j}$ for the objective $f$\n",
        "given by linear and logistic regression.\n",
        "\n",
        "We want now to implement and compare several solvers to minimize $f$."
      ]
    },
    {
      "cell_type": "markdown",
      "metadata": {
        "id": "Edqf-ifTmHvk",
        "colab_type": "text"
      },
      "source": [
        "<a id='tools'></a>\n",
        "## 3.1. Tools for the solvers"
      ]
    },
    {
      "cell_type": "code",
      "metadata": {
        "id": "QRJNfPnwmHvl",
        "colab_type": "code",
        "colab": {}
      },
      "source": [
        "# Starting point of all solvers\n",
        "w0 = np.zeros(model.n_features)\n",
        "\n",
        "# Number of iterations\n",
        "n_iter = 50\n",
        "\n",
        "# Random samples indices for the stochastic solvers (sgd, sag, svrg)\n",
        "idx_samples = np.random.randint(0, model.n_samples, model.n_samples * n_iter)"
      ],
      "execution_count": 0,
      "outputs": []
    },
    {
      "cell_type": "code",
      "metadata": {
        "id": "9zryLtjamHvr",
        "colab_type": "code",
        "colab": {}
      },
      "source": [
        "def inspector(model, n_iter, verbose=True):\n",
        "    \"\"\"A closure called to update metrics after each iteration.\n",
        "    Don't even look at it, we'll just use it in the solvers.\"\"\"\n",
        "    objectives = []\n",
        "    it = [0] # This is a hack to be able to modify 'it' inside the closure.\n",
        "    def inspector_cl(w):\n",
        "        obj = model.loss(w)\n",
        "        objectives.append(obj)\n",
        "        if verbose == True:\n",
        "            if it[0] == 0:\n",
        "                print(' | '.join([name.center(8) for name in [\"it\", \"obj\"]]))\n",
        "            if it[0] % (n_iter / 5) == 0:\n",
        "                print(' | '.join([(\"%d\" % it[0]).rjust(8), (\"%.2e\" % obj).rjust(8)]))\n",
        "            it[0] += 1\n",
        "    inspector_cl.objectives = objectives\n",
        "    return inspector_cl"
      ],
      "execution_count": 0,
      "outputs": []
    },
    {
      "cell_type": "markdown",
      "metadata": {
        "id": "S3mSdIZ2mHvu",
        "colab_type": "text"
      },
      "source": [
        "<a id='gd'></a>\n",
        "## 3.2 Gradient descent\n",
        "\n",
        "### QUESTIONS\n",
        "\n",
        "1. Finish the function `gd` below that implements the gradient descent algorithm.\n",
        "1. Test it using the next cell."
      ]
    },
    {
      "cell_type": "markdown",
      "metadata": {
        "id": "BU88ugqdina1",
        "colab_type": "text"
      },
      "source": [
        "Gradient descent formula : \\\\\n",
        "$w_{k+1} = w_k - \\alpha * \\nabla f(w_k)$ with $\\alpha$ the learning rate"
      ]
    },
    {
      "cell_type": "code",
      "metadata": {
        "scrolled": true,
        "id": "gmGoPp-bmHvv",
        "colab_type": "code",
        "colab": {}
      },
      "source": [
        "# Answer\n",
        "def gd(model, w0, n_iter, callback, verbose=True):\n",
        "    \"\"\"Gradient descent\n",
        "    \"\"\"\n",
        "    step = 1 / model.lip()\n",
        "    w = w0.copy()\n",
        "    w_new = w0.copy()\n",
        "    if verbose:\n",
        "        print(\"Lauching GD solver...\")\n",
        "    callback(w)\n",
        "    for k in range(n_iter + 1):\n",
        "        w = w - step * model.grad(w)\n",
        "        callback(w)\n",
        "    return w"
      ],
      "execution_count": 0,
      "outputs": []
    },
    {
      "cell_type": "code",
      "metadata": {
        "id": "yexIonDeXVCR",
        "colab_type": "code",
        "outputId": "bed9138f-bc32-4551-c4ba-d278d8981b4a",
        "colab": {
          "base_uri": "https://localhost:8080/",
          "height": 158
        }
      },
      "source": [
        "callback_gd = inspector(model, n_iter=n_iter)\n",
        "w_gd = gd(model, w0, n_iter=n_iter, callback=callback_gd)"
      ],
      "execution_count": 0,
      "outputs": [
        {
          "output_type": "stream",
          "text": [
            "Lauching GD solver...\n",
            "   it    |   obj   \n",
            "       0 | 6.93e-01\n",
            "      10 | 5.74e-01\n",
            "      20 | 5.43e-01\n",
            "      30 | 5.30e-01\n",
            "      40 | 5.24e-01\n",
            "      50 | 5.21e-01\n"
          ],
          "name": "stdout"
        }
      ]
    },
    {
      "cell_type": "markdown",
      "metadata": {
        "id": "IUV2hXc0mHv1",
        "colab_type": "text"
      },
      "source": [
        "<a id='agd'></a>\n",
        "## 3.3 Accelerated gradient descent\n",
        "\n",
        "### QUESTIONS\n",
        "\n",
        "1. Finish the function `agd` below that implements the accelerated gradient descent algorithm.\n",
        "1. Test it using the next cell."
      ]
    },
    {
      "cell_type": "markdown",
      "metadata": {
        "id": "ogFJtKK3jO7K",
        "colab_type": "text"
      },
      "source": [
        "Accelerated gradient descent formula : \\\\\n",
        "$w_{k+1/2} = w_k - \\alpha * \\nabla f(w_k)$ \\\\\n",
        "$w_{k+1} = w_{k+1/2} + \\beta_k * (w_{k+1/2} - w_{k-1/2}) $ \\\\\n",
        "with $\\alpha$ the learning rate and $\\beta_k = \\frac{t_k - 1}{t_{k+1}}$ with $\\left\\{\n",
        "    \\begin{array}{ll}\n",
        "        t_1 = 1 \\\\\n",
        "        t_{k+1} = \\frac{1 + \\sqrt{1 + 4 (t_k)^2}}{2} \\\\\n",
        "    \\end{array}\n",
        "\\right.$"
      ]
    },
    {
      "cell_type": "code",
      "metadata": {
        "id": "RI1oG_b1mHv2",
        "colab_type": "code",
        "colab": {}
      },
      "source": [
        "# Answer\n",
        "def agd(model, w0, n_iter, callback, verbose=True):\n",
        "    \"\"\"Accelerated gradient descent\n",
        "    \"\"\"\n",
        "    step = 1 / model.lip()\n",
        "    w = w0.copy()\n",
        "    w_new = w0.copy()\n",
        "    # An extra variable is required for acceleration\n",
        "    z = w0.copy()\n",
        "    z_new = w0.copy()\n",
        "    t = 1.\n",
        "    t_new = 1.    \n",
        "    if verbose:\n",
        "        print(\"Lauching AGD solver...\")\n",
        "    callback(w)\n",
        "    for k in range(n_iter + 1):\n",
        "        t = t_new\n",
        "        t_new = (1 + np.sqrt(1 + 4 * (t ** 2))) / 2\n",
        "        beta = (t - 1) / t_new\n",
        "        \n",
        "        z = z_new\n",
        "        w = w_new\n",
        "        z_new = w - step * model.grad(w)\n",
        "        w_new = z_new + beta * (z_new - z)\n",
        "\n",
        "        callback(w)\n",
        "    return w"
      ],
      "execution_count": 0,
      "outputs": []
    },
    {
      "cell_type": "code",
      "metadata": {
        "id": "XuZGThzuaEXb",
        "colab_type": "code",
        "outputId": "47f5b362-5282-47ae-a469-b32fb78291db",
        "colab": {
          "base_uri": "https://localhost:8080/",
          "height": 158
        }
      },
      "source": [
        "callback_agd = inspector(model, n_iter=n_iter)\n",
        "w_agd = agd(model, w0, n_iter=n_iter, callback=callback_agd)"
      ],
      "execution_count": 0,
      "outputs": [
        {
          "output_type": "stream",
          "text": [
            "Lauching AGD solver...\n",
            "   it    |   obj   \n",
            "       0 | 6.93e-01\n",
            "      10 | 5.41e-01\n",
            "      20 | 5.17e-01\n",
            "      30 | 5.18e-01\n",
            "      40 | 5.17e-01\n",
            "      50 | 5.17e-01\n"
          ],
          "name": "stdout"
        }
      ]
    },
    {
      "cell_type": "markdown",
      "metadata": {
        "id": "w9dWJZTpmHv9",
        "colab_type": "text"
      },
      "source": [
        "<a id='cgd'></a>\n",
        "\n",
        "## 3.4 Coordinate gradient descent\n",
        "\n",
        "### QUESTIONS\n",
        "\n",
        "1. Finish the function `cgd` below that implements the coordinate gradient descent algorithm.\n",
        "1. Test it using the next cell."
      ]
    },
    {
      "cell_type": "markdown",
      "metadata": {
        "id": "W-HjIUSTl8if",
        "colab_type": "text"
      },
      "source": [
        "Coordinate gradient descent formula : \\\\\n",
        "$\\left\\{\n",
        "    \\begin{array}{ll}\n",
        "        w_{k+1}^{(j)} = w_k^{(j)} &  \\mbox{ for }j≠i \\\\\n",
        "        w_{k+1}^{(i)} = w_k^{(i)} - \\alpha * \\nabla^{(i)}f(w_k) & \\mbox{ otherwise}\\\\\n",
        "    \\end{array}\n",
        "\\right.$ \\\\\n",
        "with $i$ chosen randomly and $\\alpha$ the learning rate\n"
      ]
    },
    {
      "cell_type": "code",
      "metadata": {
        "id": "thZIORVvmHv-",
        "colab_type": "code",
        "colab": {}
      },
      "source": [
        "# Answer\n",
        "def cgd(model, w0, n_iter, callback, verbose=True):\n",
        "    \"\"\"Coordinate gradient descent\n",
        "    \"\"\"\n",
        "    w = w0.copy()\n",
        "    n_features = model.n_features\n",
        "    steps = 1 / model.lip_coordinates()\n",
        "    if verbose:\n",
        "        print(\"Lauching CGD solver...\")\n",
        "    callback(w)\n",
        "    for k in range(n_iter + 1):\n",
        "        i = np.random.randint(n_features)\n",
        "        w[i] = w[i] - steps[i] * model.grad_coordinate(i, w)\n",
        "        callback(w)\n",
        "    return w"
      ],
      "execution_count": 0,
      "outputs": []
    },
    {
      "cell_type": "code",
      "metadata": {
        "id": "rovSusExdGvb",
        "colab_type": "code",
        "outputId": "ee0f54aa-4ee7-49ef-c40a-22376192d757",
        "colab": {
          "base_uri": "https://localhost:8080/",
          "height": 158
        }
      },
      "source": [
        "callback_cgd = inspector(model, n_iter=n_iter)\n",
        "w_cgd = cgd(model, w0, n_iter=n_iter, callback=callback_cgd)"
      ],
      "execution_count": 0,
      "outputs": [
        {
          "output_type": "stream",
          "text": [
            "Lauching CGD solver...\n",
            "   it    |   obj   \n",
            "       0 | 6.93e-01\n",
            "      10 | 6.90e-01\n",
            "      20 | 6.69e-01\n",
            "      30 | 6.62e-01\n",
            "      40 | 6.17e-01\n",
            "      50 | 6.09e-01\n"
          ],
          "name": "stdout"
        }
      ]
    },
    {
      "cell_type": "markdown",
      "metadata": {
        "id": "GFbW-Y9gmHwE",
        "colab_type": "text"
      },
      "source": [
        "<a id='sgd'></a>\n",
        "## 3.5. Stochastic gradient descent\n",
        "\n",
        "### QUESTIONS\n",
        "\n",
        "1. Finish the function `sgd` below that implements the st stochastic gradient descent algorithm.\n",
        "1.Test it using the next cell."
      ]
    },
    {
      "cell_type": "markdown",
      "metadata": {
        "id": "yZnHdw8ZnUgn",
        "colab_type": "text"
      },
      "source": [
        "Stochastic gradient descent formula : \\\\\n",
        "$w_{k+1} = w_k - \\alpha * \\frac{\\partial f(w_k)}{\\partial w_i} $ \\\\\n",
        "with $i$ chosen randomly and $\\alpha$ the learning rate"
      ]
    },
    {
      "cell_type": "code",
      "metadata": {
        "id": "c4ykSrHLmHwF",
        "colab_type": "code",
        "colab": {}
      },
      "source": [
        "# Answer\n",
        "def sgd(model, w0, idx_samples, n_iter, step, callback, verbose=True):\n",
        "    \"\"\"Stochastic gradient descent\n",
        "    \"\"\"\n",
        "    w = w0.copy()\n",
        "    callback(w)\n",
        "    n_samples = model.n_samples\n",
        "    for idx in range(n_iter):\n",
        "        i = idx_samples[idx]\n",
        "        w = w - step * model.grad_i(i, w)\n",
        "        if idx % n_samples == 0:\n",
        "            callback(w)\n",
        "    return w"
      ],
      "execution_count": 0,
      "outputs": []
    },
    {
      "cell_type": "markdown",
      "metadata": {
        "id": "NR7myTNuLhu8",
        "colab_type": "text"
      },
      "source": [
        "We changed the learning rate $step$ to prevent this method from diverging."
      ]
    },
    {
      "cell_type": "code",
      "metadata": {
        "id": "ACJ6kl4duGXe",
        "colab_type": "code",
        "outputId": "b16e91d9-7735-434c-fbfd-792b6e2e2fc4",
        "colab": {
          "base_uri": "https://localhost:8080/",
          "height": 141
        }
      },
      "source": [
        "step = 1e-3\n",
        "callback_sgd = inspector(model, n_iter=n_iter)\n",
        "w_sgd = sgd(model, w0, idx_samples, n_iter=model.n_samples * n_iter, \n",
        "            step=step, callback=callback_sgd)"
      ],
      "execution_count": 0,
      "outputs": [
        {
          "output_type": "stream",
          "text": [
            "   it    |   obj   \n",
            "       0 | 6.93e-01\n",
            "      10 | 5.82e-01\n",
            "      20 | 5.47e-01\n",
            "      30 | 5.33e-01\n",
            "      40 | 5.26e-01\n",
            "      50 | 5.22e-01\n"
          ],
          "name": "stdout"
        }
      ]
    },
    {
      "cell_type": "markdown",
      "metadata": {
        "id": "kQoTXzSEmHwM",
        "colab_type": "text"
      },
      "source": [
        "<a id='sag'></a>\n",
        "## 3.6. Stochastic average gradient descent\n",
        "\n",
        "\n",
        "### QUESTIONS\n",
        "\n",
        "1. Finish the function `sag` below that implements the stochastic averaged gradient algorithm.\n",
        "1. Test it using the next cell"
      ]
    },
    {
      "cell_type": "markdown",
      "metadata": {
        "id": "NMQcw8sVoCyF",
        "colab_type": "text"
      },
      "source": [
        "Stochastic gradient descent formula : \\\\\n",
        "$w_{k+1}^{(i)} = w_k^{(i)} - \\frac{\\alpha}{n} * \\sum{y_k^{(i)}} $ \\\\\n",
        "with $ y_k^{(j)} = \\left\\{\n",
        "    \\begin{array}{ll}\n",
        "        y_{k-1}^{(j)} & \\mbox{ for }j≠i\\\\\n",
        "        \\nabla f^{(i)}(w_k) & \\mbox{ otherwise} \\\\\n",
        "    \\end{array}\n",
        "\\right.$ \n",
        "\n",
        "with $i$ chosen randomly and $\\alpha$ the learning rate"
      ]
    },
    {
      "cell_type": "code",
      "metadata": {
        "id": "MMpBpJqTmHwN",
        "colab_type": "code",
        "colab": {}
      },
      "source": [
        "# Answer\n",
        "def sag(model, w0, idx_samples, n_iter, step, callback, verbose=True):\n",
        "    \"\"\"Stochastic average gradient descent\n",
        "    \"\"\"\n",
        "    w = w0.copy()\n",
        "    n_samples, n_features = model.n_samples, model.n_features\n",
        "    gradient_memory = np.zeros((n_samples, n_features))\n",
        "    y = np.zeros(n_features)\n",
        "    mean = np.zeros(n_features)\n",
        "    callback(w)\n",
        "    for idx in range(n_iter):\n",
        "        i = idx_samples[idx]        \n",
        "        y = y + model.grad_i(i, w) / n_samples - gradient_memory[i] / n_samples\n",
        "        gradient_memory[i] = model.grad_i(i, w)\n",
        "        w = w - step * y\n",
        "        if idx % n_samples == 0:\n",
        "            callback(w)\n",
        "    return w"
      ],
      "execution_count": 0,
      "outputs": []
    },
    {
      "cell_type": "code",
      "metadata": {
        "id": "PHhOCSppuIIg",
        "colab_type": "code",
        "outputId": "ecd2dbd4-43ac-4bc2-a3e9-2fb97fad7a5f",
        "colab": {
          "base_uri": "https://localhost:8080/",
          "height": 141
        }
      },
      "source": [
        "step = 1 / model.lip_max()\n",
        "callback_sag = inspector(model, n_iter=n_iter)\n",
        "w_sag = sag(model, w0, idx_samples, n_iter=model.n_samples * n_iter, \n",
        "            step=step, callback=callback_sag)"
      ],
      "execution_count": 0,
      "outputs": [
        {
          "output_type": "stream",
          "text": [
            "   it    |   obj   \n",
            "       0 | 6.93e-01\n",
            "      10 | 5.19e-01\n",
            "      20 | 5.17e-01\n",
            "      30 | 5.17e-01\n",
            "      40 | 5.17e-01\n",
            "      50 | 5.17e-01\n"
          ],
          "name": "stdout"
        }
      ]
    },
    {
      "cell_type": "markdown",
      "metadata": {
        "id": "vBYAdbcrmHwV",
        "colab_type": "text"
      },
      "source": [
        "<a id='svrg'></a>\n",
        "## 3.7. Stochastic variance reduced gradient\n",
        "\n",
        "### QUESTIONS\n",
        "\n",
        "1. Finish the function `svrg` below that implements the stochastic variance reduced gradient algorithm.\n",
        "1. Test it using the next cell."
      ]
    },
    {
      "cell_type": "markdown",
      "metadata": {
        "id": "Mz1mfOGRqckL",
        "colab_type": "text"
      },
      "source": [
        "Stochastic variance reduced gradient formula : \\\\\n",
        "$w_{k+1} = w_k - \\alpha * (\\frac{\\partial f(w_k)}{\\partial w_i} - \\frac{\\partial f(w_{old})}{\\partial w_i} + \\nabla f(w_{old}) ) $ \\\\\n",
        "with $i$ chosen randomly and $\\alpha$ the learning rate"
      ]
    },
    {
      "cell_type": "code",
      "metadata": {
        "id": "HyKxbufBmHwW",
        "colab_type": "code",
        "colab": {}
      },
      "source": [
        "# Answer\n",
        "def svrg(model, w0, idx_samples, n_iter, step, callback, verbose=True):\n",
        "    \"\"\"Stochastic variance reduced gradient descent\n",
        "    \"\"\"\n",
        "    w = w0.copy()\n",
        "    w_old = w.copy()\n",
        "    n_samples = model.n_samples\n",
        "    callback(w)\n",
        "    for idx in range(n_iter):        \n",
        "        i = idx_samples[idx]\n",
        "\n",
        "        if idx % 100 == 0:\n",
        "          w_old = w.copy()\n",
        "          grad_old = model.grad(w_old)\n",
        "        w = w - step * ((model.grad_i(i, w) - model.grad_i(i, w_old)) + grad_old)\n",
        "        if idx % n_samples == 0:\n",
        "            callback(w)\n",
        "    return w"
      ],
      "execution_count": 0,
      "outputs": []
    },
    {
      "cell_type": "code",
      "metadata": {
        "id": "rhdq2x91uJxJ",
        "colab_type": "code",
        "outputId": "f4685cc1-02b9-4348-9cd0-c47da5aae8db",
        "colab": {
          "base_uri": "https://localhost:8080/",
          "height": 141
        }
      },
      "source": [
        "step = 1 / model.lip_max()\n",
        "callback_svrg = inspector(model, n_iter=n_iter)\n",
        "w_svrg = svrg(model, w0, idx_samples, n_iter=model.n_samples * n_iter,\n",
        "              step=step, callback=callback_svrg)"
      ],
      "execution_count": 0,
      "outputs": [
        {
          "output_type": "stream",
          "text": [
            "   it    |   obj   \n",
            "       0 | 6.93e-01\n",
            "      10 | 5.17e-01\n",
            "      20 | 5.17e-01\n",
            "      30 | 5.17e-01\n",
            "      40 | 5.17e-01\n",
            "      50 | 5.17e-01\n"
          ],
          "name": "stdout"
        }
      ]
    },
    {
      "cell_type": "markdown",
      "metadata": {
        "id": "lLz6oY9WmHwe",
        "colab_type": "text"
      },
      "source": [
        "<a id='comparison'></a>\n",
        "# 4. Comparison of all algorithms"
      ]
    },
    {
      "cell_type": "code",
      "metadata": {
        "id": "Qo4fKZ6CmHwf",
        "colab_type": "code",
        "colab": {}
      },
      "source": [
        "callbacks = [callback_gd, callback_agd, callback_cgd, callback_sgd, \n",
        "             callback_sag, callback_svrg]\n",
        "names = [\"GD\", \"AGD\", \"CGD\", \"SGD\", \"SAG\", \"SVRG\"]\n",
        "\n",
        "callback_long = inspector(model, n_iter=1000, verbose=False)\n",
        "w_cgd = cgd(model, w0, n_iter=1000, callback=callback_long, verbose=False)\n",
        "obj_min = callback_long.objectives[-1]"
      ],
      "execution_count": 0,
      "outputs": []
    },
    {
      "cell_type": "code",
      "metadata": {
        "id": "gfXdNR0TmHwj",
        "colab_type": "code",
        "outputId": "ddaec0d7-9266-417a-cf4d-f1b84395f7cf",
        "colab": {
          "base_uri": "https://localhost:8080/",
          "height": 368
        }
      },
      "source": [
        "plt.figure(figsize=(6, 5))\n",
        "plt.yscale(\"log\")\n",
        "\n",
        "for callback, name in zip(callbacks, names):\n",
        "    objectives = np.array(callback.objectives)\n",
        "    objectives_dist = objectives - obj_min    \n",
        "    plt.plot(objectives_dist, label=name, lw=2)\n",
        "\n",
        "plt.tight_layout()\n",
        "plt.xlim((0, n_iter))\n",
        "plt.xlabel(\"Number of passes on the data\", fontsize=16)\n",
        "plt.ylabel(r\"$F(w^k) - F(w^*)$\", fontsize=16)\n",
        "plt.legend(loc='lower left')\n",
        "plt.tight_layout()"
      ],
      "execution_count": 0,
      "outputs": [
        {
          "output_type": "display_data",
          "data": {
            "image/png": "[encoded data removed]",
            "text/plain": [
              "<Figure size 432x360 with 1 Axes>"
            ]
          },
          "metadata": {
            "tags": []
          }
        }
      ]
    },
    {
      "cell_type": "markdown",
      "metadata": {
        "id": "w8sjn1PGmHwl",
        "colab_type": "text"
      },
      "source": [
        "### QUESTIONS\n",
        "\n",
        "1. Compare the minimizers you obtain using the different algorithms, with a large and a small number of iterations. This can be done with `plt.stem` plots.\n",
        "1. In linear regression and logistic regression, study the influence of the correlation of the features on the performance of the optimization algorithms. Explain.\n",
        "1. In linear regression and logistic regression, study the influence of the level of ridge penalization on the performance of the optimization algorithms. Explain.\n",
        "1. (OPTIONAL) All algorithms can be modified to handle an objective of the form $f + g$ with $g$ separable and prox-capable. Modify all the algorithms and try them out for L1 penalization $f(w) = \\lambda \\sum_{j=1}^d |w_j|$."
      ]
    },
    {
      "cell_type": "markdown",
      "metadata": {
        "id": "4PAodFLPTnF1",
        "colab_type": "text"
      },
      "source": [
        "QUESTION 1 \\\\\n",
        "\n",
        "We plot mimimum values of the loss for each descent method for a small and a large numbers of iterations ($iter = 50$ or $iter = 1000$)."
      ]
    },
    {
      "cell_type": "code",
      "metadata": {
        "id": "Q98-y2gmmHwm",
        "colab_type": "code",
        "colab": {}
      },
      "source": [
        "# Answer\n",
        "\n",
        "# question 1\n",
        "# small number of iterations\n",
        "callback_small = inspector(model, n_iter=50, verbose=False)\n",
        "w_gd = gd(model, w0, n_iter=50, callback=callback_small, verbose=False)\n",
        "w_agd = agd(model, w0, n_iter=50, callback=callback_small, verbose=False)\n",
        "w_cgd = cgd(model, w0, n_iter=50, callback=callback_small, verbose=False)\n",
        "w_sgd = sgd(model, w0, idx_samples, n_iter=50, step=1e-2, callback=callback_small, verbose=False)\n",
        "w_sag = sag(model, w0, idx_samples, n_iter=50, step=1 / model.lip_max(), callback=callback_small, verbose=False)\n",
        "w_svrg = svrg(model, w0, idx_samples, n_iter=50, step=1 / model.lip_max(), callback=callback_small, verbose=False)\n",
        "names = [\"GD\", \"AGD\", \"CGD\", \"SGD\", \"SAG\", \"SVRG\"]\n",
        "w_min = [model.loss(w_gd), model.loss(w_agd), model.loss(w_cgd), model.loss(w_sgd), model.loss(w_sag), model.loss(w_svrg)]"
      ],
      "execution_count": 0,
      "outputs": []
    },
    {
      "cell_type": "code",
      "metadata": {
        "id": "0iCEJbChvS8u",
        "colab_type": "code",
        "outputId": "f2154b28-07f7-4bd5-efb4-c0d41628dd88",
        "colab": {
          "base_uri": "https://localhost:8080/",
          "height": 354
        }
      },
      "source": [
        "plt.stem(names, w_min)\n",
        "plt.ylabel(\"Loss of minimizers\")\n",
        "plt.title(\"Loss of minimizers for a small number of iterations\")\n",
        "plt.plot()"
      ],
      "execution_count": 0,
      "outputs": [
        {
          "output_type": "stream",
          "text": [
            "/usr/local/lib/python3.6/dist-packages/ipykernel_launcher.py:1: UserWarning: In Matplotlib 3.3 individual lines on a stem plot will be added as a LineCollection instead of individual lines. This significantly improves the performance of a stem plot. To remove this warning and switch to the new behaviour, set the \"use_line_collection\" keyword argument to True.\n",
            "  \"\"\"Entry point for launching an IPython kernel.\n"
          ],
          "name": "stderr"
        },
        {
          "output_type": "execute_result",
          "data": {
            "text/plain": [
              "[]"
            ]
          },
          "metadata": {
            "tags": []
          },
          "execution_count": 110
        },
        {
          "output_type": "display_data",
          "data": {
            "image/png": "[encoded data removed]",
            "text/plain": [
              "<Figure size 432x288 with 1 Axes>"
            ]
          },
          "metadata": {
            "tags": []
          }
        }
      ]
    },
    {
      "cell_type": "markdown",
      "metadata": {
        "id": "1-8rqAl9w5t3",
        "colab_type": "text"
      },
      "source": [
        "We can see that the GD and AGD algorithms are the two most efficient ones with a small number of iterations."
      ]
    },
    {
      "cell_type": "code",
      "metadata": {
        "id": "20YQcwYJmHwp",
        "colab_type": "code",
        "colab": {}
      },
      "source": [
        "# question 1\n",
        "# large number of iterations\n",
        "callback_long = inspector(model, n_iter=1000, verbose=False)\n",
        "w_gd = gd(model, w0, n_iter=1000, callback=callback_long, verbose=False)\n",
        "w_agd = agd(model, w0, n_iter=1000, callback=callback_long, verbose=False)\n",
        "w_cgd = cgd(model, w0, n_iter=1000, callback=callback_long, verbose=False)\n",
        "w_sgd = sgd(model, w0, idx_samples, n_iter=1000, step=1e-2, callback=callback_long, verbose=False)\n",
        "w_sag = sag(model, w0, idx_samples, n_iter=1000, step= 1 / model.lip_max(), callback=callback_long, verbose=False)\n",
        "w_svrg = svrg(model, w0, idx_samples, n_iter=1000, step= 1 / model.lip_max(), callback=callback_long, verbose=False)\n",
        "names = [\"GD\", \"AGD\", \"CGD\", \"SGD\", \"SAG\", \"SVRG\"]\n",
        "w_min = [model.loss(w_gd), model.loss(w_agd), model.loss(w_cgd), model.loss(w_sgd), model.loss(w_sag), model.loss(w_svrg)]"
      ],
      "execution_count": 0,
      "outputs": []
    },
    {
      "cell_type": "code",
      "metadata": {
        "id": "kr0CVUhgxwMe",
        "colab_type": "code",
        "outputId": "16468fd6-880e-468d-da2e-eba26e786ab7",
        "colab": {
          "base_uri": "https://localhost:8080/",
          "height": 354
        }
      },
      "source": [
        "plt.stem(names, w_min)\n",
        "plt.ylabel(\"Loss of minimizers\")\n",
        "plt.title(\"Loss of minimizers for a large number of iterations\")\n",
        "plt.plot()"
      ],
      "execution_count": 0,
      "outputs": [
        {
          "output_type": "stream",
          "text": [
            "/usr/local/lib/python3.6/dist-packages/ipykernel_launcher.py:1: UserWarning: In Matplotlib 3.3 individual lines on a stem plot will be added as a LineCollection instead of individual lines. This significantly improves the performance of a stem plot. To remove this warning and switch to the new behaviour, set the \"use_line_collection\" keyword argument to True.\n",
            "  \"\"\"Entry point for launching an IPython kernel.\n"
          ],
          "name": "stderr"
        },
        {
          "output_type": "execute_result",
          "data": {
            "text/plain": [
              "[]"
            ]
          },
          "metadata": {
            "tags": []
          },
          "execution_count": 112
        },
        {
          "output_type": "display_data",
          "data": {
            "image/png": "[encoded data removed]",
            "text/plain": [
              "<Figure size 432x288 with 1 Axes>"
            ]
          },
          "metadata": {
            "tags": []
          }
        }
      ]
    },
    {
      "cell_type": "markdown",
      "metadata": {
        "id": "n6GEF5QrxD8f",
        "colab_type": "text"
      },
      "source": [
        "Once again, the GD and the AGD algorithms are the two most efficient ones for a large number of iterations. Besides, by comparison with the previous plot, we can notice that minimizers found for each algorithm is better with a large number of iterations. This is consistent."
      ]
    },
    {
      "cell_type": "markdown",
      "metadata": {
        "id": "BtBeTRPIUOEC",
        "colab_type": "text"
      },
      "source": [
        "QUESTION 2 \\\\\n",
        "\n",
        "To study the influence of the correlation of the features on the performance of the optimization algorithms, we plot $F(w^k) - F(w^*)$ for each algorithm for different value of  correlation. Correlation varies between $-1$ and $1$, but results are symetric with respect to $0$, so we focus on the interval $[0,1]$. \\\\\n",
        "\n",
        "To compute $F(w^*)$, we use the Coordinate Descent Gradient algorithm with a large number of iterations because the previous question shows that it was the best approximation of the mimimum of the loss."
      ]
    },
    {
      "cell_type": "code",
      "metadata": {
        "id": "HPJg2lnvzQiC",
        "colab_type": "code",
        "colab": {}
      },
      "source": [
        "# question 2\n",
        "# linear model\n",
        "from scipy.optimize import check_grad\n",
        "\n",
        "tab_corr = []\n",
        "res_gd = []\n",
        "res_agd = []\n",
        "res_cgd = []\n",
        "res_sgd = []\n",
        "res_sag = []\n",
        "res_svrg = []\n",
        "\n",
        "for i in range(11):\n",
        "  X, y = simu_linreg(w0, corr=i/10)\n",
        "  model = ModelLinReg(X, y, strength=1e-3)\n",
        "\n",
        "  w = np.random.randn(n_features)\n",
        "\n",
        "  callback_long1 = inspector(model, n_iter=1000, verbose=False)\n",
        "  w_cgd1 = cgd(model, w0, n_iter=1000, callback=callback_long1, verbose=False)\n",
        "  obj_min = callback_long1.objectives[-1]\n",
        "\n",
        "  callback_long = inspector(model, n_iter=50, verbose=False)\n",
        "  w_gd = gd(model, w0, n_iter=50, callback=callback_long, verbose=False)\n",
        "  w_agd = agd(model, w0, n_iter=50, callback=callback_long, verbose=False)\n",
        "  w_cgd = cgd(model, w0, n_iter=50, callback=callback_long, verbose=False)\n",
        "  w_sgd = sgd(model, w0, idx_samples, n_iter=50, step=1e-2, callback=callback_long, verbose=False)\n",
        "  w_sag = sag(model, w0, idx_samples, n_iter=50, step= 1 / model.lip_max(), callback=callback_long, verbose=False)\n",
        "  w_svrg = svrg(model, w0, idx_samples, n_iter=50, step= 1 / model.lip_max(), callback=callback_long, verbose=False)\n",
        "\n",
        "  tab_corr.append(i/10)\n",
        "  res_gd.append(model.loss(w_gd) - obj_min)\n",
        "  res_agd.append(model.loss(w_agd) - obj_min)\n",
        "  res_cgd.append(model.loss(w_cgd) - obj_min)\n",
        "  res_sgd.append(model.loss(w_sgd)- obj_min)\n",
        "  res_sag.append(model.loss(w_sag) - obj_min)\n",
        "  res_svrg.append(model.loss(w_svrg) - obj_min)"
      ],
      "execution_count": 0,
      "outputs": []
    },
    {
      "cell_type": "code",
      "metadata": {
        "id": "-zpULIe11wsm",
        "colab_type": "code",
        "outputId": "dd61b6a5-feb4-40e6-cdfb-569330ac1bf1",
        "colab": {
          "base_uri": "https://localhost:8080/",
          "height": 300
        }
      },
      "source": [
        "plt.plot(tab_corr, res_gd, label=\"GD\")\n",
        "plt.plot(tab_corr, res_agd, label=\"AGD\")\n",
        "plt.plot(tab_corr, res_cgd, label=\"CGD\")\n",
        "plt.plot(tab_corr, res_sgd, label=\"SGD\")\n",
        "plt.plot(tab_corr, res_sag, label=\"SAG\")\n",
        "plt.plot(tab_corr, res_svrg, label=\"SVRG\")\n",
        "\n",
        "plt.title(\"Results for different correlation values for the linear model\")\n",
        "plt.xlabel(\"Correlation values\", fontsize=16)\n",
        "plt.ylabel(r\"$F(w^k) - F(w^*)$\", fontsize=16)\n",
        "plt.legend()\n",
        "plt.show()"
      ],
      "execution_count": 0,
      "outputs": [
        {
          "output_type": "display_data",
          "data": {
            "image/png": "[encoded data removed]",
            "text/plain": [
              "<Figure size 432x288 with 1 Axes>"
            ]
          },
          "metadata": {
            "tags": []
          }
        }
      ]
    },
    {
      "cell_type": "markdown",
      "metadata": {
        "id": "owNQxwaN4H9o",
        "colab_type": "text"
      },
      "source": [
        "We see that, for the linear model, the correlation of the features seems to have roughly no impact on algorithms.  \\\\\n",
        "The influence on the SGD algorithm seems random, and no general conclusion can be drawn. \n",
        "\n"
      ]
    },
    {
      "cell_type": "code",
      "metadata": {
        "id": "Xd42xXbF2_wy",
        "colab_type": "code",
        "colab": {}
      },
      "source": [
        "# question 2\n",
        "# logistic model\n",
        "from scipy.optimize import check_grad\n",
        "\n",
        "tab_corr = []\n",
        "res_gd = []\n",
        "res_agd = []\n",
        "res_cgd = []\n",
        "res_sgd = []\n",
        "res_sag = []\n",
        "res_svrg = []\n",
        "\n",
        "for i in range(11):\n",
        "  X, y = simu_logreg(w0, corr=i/10)\n",
        "  model = ModelLogReg(X, y, strength=1e-3)\n",
        "\n",
        "  w = np.random.randn(n_features)\n",
        "\n",
        "  callback_long = inspector(model, n_iter=1000, verbose=False)\n",
        "  w_cgd1 = cgd(model, w0, n_iter=1000, callback=callback_long, verbose=False)\n",
        "  obj_min = callback_long.objectives[-1]\n",
        "\n",
        "  callback_long1 = inspector(model, n_iter=50, verbose=False)\n",
        "  w_gd = gd(model, w0, n_iter=50, callback=callback_long1, verbose=False)\n",
        "  res_gd.append(callback_long1.objectives[-1] - obj_min)\n",
        "  \n",
        "  callback_long2 = inspector(model, n_iter=50, verbose=False)\n",
        "  w_agd = gd(model, w0, n_iter=50, callback=callback_long2, verbose=False)\n",
        "  res_agd.append(callback_long2.objectives[-1] - obj_min)\n",
        "\n",
        "  callback_long3 = inspector(model, n_iter=50, verbose=False)\n",
        "  w_cgd = cgd(model, w0, n_iter=50, callback=callback_long3, verbose=False)\n",
        "  res_cgd.append(callback_long3.objectives[-1] - obj_min)\n",
        "\n",
        "  callback_long4 = inspector(model, n_iter=50, verbose=False)\n",
        "  w_sgd = sgd(model, w0, idx_samples, n_iter=50*model.n_samples, step=1e-2, callback=callback_long4, verbose=False)\n",
        "  res_sgd.append(callback_long4.objectives[-1] - obj_min)\n",
        "\n",
        "  callback_long5 = inspector(model, n_iter=50, verbose=False)\n",
        "  w_sag = sag(model, w0, idx_samples, n_iter=50*model.n_samples, step=1 / model.lip_max(), callback=callback_long5, verbose=False)\n",
        "  res_sag.append(callback_long5.objectives[-1] - obj_min)\n",
        "\n",
        "  callback_long6 = inspector(model, n_iter=50, verbose=False)\n",
        "  w_svrg = svrg(model, w0,idx_samples, n_iter=50*model.n_samples, step=1 / model.lip_max(), callback=callback_long6, verbose=False)\n",
        "  res_svrg.append(callback_long6.objectives[-1] - obj_min)\n",
        "\n",
        "  tab_corr.append(i/10)\n",
        "  \n",
        "  "
      ],
      "execution_count": 0,
      "outputs": []
    },
    {
      "cell_type": "code",
      "metadata": {
        "id": "IOX_jADU3Hj8",
        "colab_type": "code",
        "outputId": "dbd2f4f9-f19b-4af2-95ff-9be95e99ea9c",
        "colab": {
          "base_uri": "https://localhost:8080/",
          "height": 371
        }
      },
      "source": [
        "plt.plot(tab_corr, res_gd, label=\"GD\")\n",
        "plt.plot(tab_corr, res_agd, label=\"AGD\")\n",
        "plt.plot(tab_corr, res_cgd, label=\"CGD\")\n",
        "plt.plot(tab_corr, res_sgd, label=\"SGD\")\n",
        "plt.plot(tab_corr, res_sag, label=\"SAG\")\n",
        "plt.plot(tab_corr, res_svrg, label=\"SVRG\")\n",
        "\n",
        "plt.title(\"Results for different correlation values for the logistic model\")\n",
        "plt.xlabel(\"Correlation values\", fontsize=16)\n",
        "plt.ylabel(r\"$F(w^k) - F(w^*)$\", fontsize=16)\n",
        "plt.legend()\n",
        "plt.show()"
      ],
      "execution_count": 0,
      "outputs": [
        {
          "output_type": "stream",
          "text": [
            "/usr/local/lib/python3.6/dist-packages/numpy/core/_asarray.py:85: ComplexWarning: Casting complex values to real discards the imaginary part\n",
            "  return array(a, dtype, copy=False, order=order)\n",
            "/usr/local/lib/python3.6/dist-packages/numpy/core/_asarray.py:85: ComplexWarning: Casting complex values to real discards the imaginary part\n",
            "  return array(a, dtype, copy=False, order=order)\n"
          ],
          "name": "stderr"
        },
        {
          "output_type": "display_data",
          "data": {
            "image/png": "[encoded data removed]",
            "text/plain": [
              "<Figure size 432x288 with 1 Axes>"
            ]
          },
          "metadata": {
            "tags": []
          }
        }
      ]
    },
    {
      "cell_type": "markdown",
      "metadata": {
        "id": "SAE9UciwyNhI",
        "colab_type": "text"
      },
      "source": [
        "For the logistic model, we can make the same conclusions : the correlation does not seem to have an impact on the performances of algorithms."
      ]
    },
    {
      "cell_type": "markdown",
      "metadata": {
        "id": "_K2qxj0JVyzQ",
        "colab_type": "text"
      },
      "source": [
        "QUESTION 3 \\\\\n",
        "\n",
        "To study the influence of the level of ridge penalization on the performance of the optimization algorithms, we plot the loss of minizers of each algorithm for different value of the penalization, varying between $10^{-5}$ and $1$. In order to represent results correctly, we choose to use a logaritmic scale."
      ]
    },
    {
      "cell_type": "code",
      "metadata": {
        "id": "tfmVNUxP3xIO",
        "colab_type": "code",
        "colab": {}
      },
      "source": [
        "# question 3\n",
        "# linear model\n",
        "from scipy.optimize import check_grad\n",
        "\n",
        "tab_strength = [1e-5, 2e-5, 5e-5, 1e-4, 2e-4, 5e-4, 1e-3, 2e-3, 5e-3, 1e-2, 2e-2, 5e-2, 1e-1, 2e-1, 5e-1, 1]\n",
        "res_gd = []\n",
        "res_agd = []\n",
        "res_cgd = []\n",
        "res_sgd = []\n",
        "res_sag = []\n",
        "res_svrg = []\n",
        "\n",
        "for i in tab_strength:\n",
        "  X, y = simu_linreg(w0, corr=0.6)\n",
        "  model = ModelLinReg(X, y, strength=i)\n",
        "\n",
        "  w = np.random.randn(n_features)\n",
        "\n",
        "  callback_long = inspector(model, n_iter=1000, verbose=False)\n",
        "  w_gd = gd(model, w0, n_iter=1000, callback=callback_long, verbose=False)\n",
        "  w_agd = agd(model, w0, n_iter=1000, callback=callback_long, verbose=False)\n",
        "  w_cgd = cgd(model, w0, n_iter=1000, callback=callback_long, verbose=False)\n",
        "  w_sgd = sgd(model, w0, idx_samples, n_iter=1000, step=1e-2, callback=callback_long, verbose=False)\n",
        "  w_sag = sag(model, w0, idx_samples, n_iter=1000, step= 1 / model.lip_max(), callback=callback_long, verbose=False)\n",
        "  w_svrg = svrg(model, w0, idx_samples, n_iter=1000, step= 1 / model.lip_max(), callback=callback_long, verbose=False)\n",
        "\n",
        "  res_gd.append(model.loss(w_gd))\n",
        "  res_agd.append(model.loss(w_agd))\n",
        "  res_cgd.append(model.loss(w_cgd))\n",
        "  res_sgd.append(model.loss(w_sgd))\n",
        "  res_sag.append(model.loss(w_sag))\n",
        "  res_svrg.append(model.loss(w_svrg))"
      ],
      "execution_count": 0,
      "outputs": []
    },
    {
      "cell_type": "code",
      "metadata": {
        "id": "nsrvnvdd3zKT",
        "colab_type": "code",
        "outputId": "4fd7cd07-85c2-47b1-d0d4-77547606d21d",
        "colab": {
          "base_uri": "https://localhost:8080/",
          "height": 304
        }
      },
      "source": [
        "plt.plot(tab_strength, res_gd, label=\"GD\")\n",
        "plt.plot(tab_strength, res_agd, label=\"AGD\")\n",
        "plt.plot(tab_strength, res_cgd, label=\"CGD\")\n",
        "plt.plot(tab_strength, res_sgd, label=\"SGD\")\n",
        "plt.plot(tab_strength, res_sag, label=\"SAG\")\n",
        "plt.plot(tab_strength, res_svrg, label=\"SVRG\")\n",
        "\n",
        "plt.title(\"Influence of the level of ridge penalization for the linear model\")\n",
        "plt.xscale('log')\n",
        "plt.xlabel(\"Penalization values\", fontsize=16)\n",
        "plt.ylabel(\"Loss of minimizers\", fontsize=16)\n",
        "plt.legend()\n",
        "plt.show()"
      ],
      "execution_count": 0,
      "outputs": [
        {
          "output_type": "display_data",
          "data": {
            "image/png": "[encoded data removed]",
            "text/plain": [
              "<Figure size 432x288 with 1 Axes>"
            ]
          },
          "metadata": {
            "tags": []
          }
        }
      ]
    },
    {
      "cell_type": "code",
      "metadata": {
        "id": "XrdIOaRf3WIF",
        "colab_type": "code",
        "colab": {}
      },
      "source": [
        "# question 3\n",
        "# logistic model\n",
        "from scipy.optimize import check_grad\n",
        "\n",
        "tab_strength = [1e-5, 2e-5, 5e-5, 1e-4, 2e-4, 5e-4, 1e-3, 2e-3, 5e-3, 1e-2, 2e-2, 5e-2, 1e-1, 2e-1, 5e-1, 1]\n",
        "res_gd = []\n",
        "res_agd = []\n",
        "res_cgd = []\n",
        "res_sgd = []\n",
        "res_sag = []\n",
        "res_svrg = []\n",
        "\n",
        "for i in tab_strength:\n",
        "  X, y = simu_logreg(w0, corr=0.6)\n",
        "  model = ModelLogReg(X, y, strength=i)\n",
        "\n",
        "  w = np.random.randn(n_features)\n",
        "\n",
        "  callback_long = inspector(model, n_iter=1000, verbose=False)\n",
        "  w_gd = gd(model, w0, n_iter=1000, callback=callback_long, verbose=False)\n",
        "  w_agd = agd(model, w0, n_iter=1000, callback=callback_long, verbose=False)\n",
        "  w_cgd = cgd(model, w0, n_iter=1000, callback=callback_long, verbose=False)\n",
        "  w_sgd = sgd(model, w0, idx_samples, n_iter=1000, step=1e-2, callback=callback_long, verbose=False)\n",
        "  w_sag = sag(model, w0, idx_samples, n_iter=1000, step= 1 / model.lip_max(), callback=callback_long, verbose=False)\n",
        "  w_svrg = svrg(model, w0, idx_samples, n_iter=1000, step= 1 / model.lip_max(), callback=callback_long, verbose=False)\n",
        "\n",
        "  res_gd.append(model.loss(w_gd))\n",
        "  res_agd.append(model.loss(w_agd))\n",
        "  res_cgd.append(model.loss(w_cgd))\n",
        "  res_sgd.append(model.loss(w_sgd))\n",
        "  res_sag.append(model.loss(w_sag))\n",
        "  res_svrg.append(model.loss(w_svrg))"
      ],
      "execution_count": 0,
      "outputs": []
    },
    {
      "cell_type": "code",
      "metadata": {
        "id": "q-ZoaP7G3Pkx",
        "colab_type": "code",
        "colab": {}
      },
      "source": [
        "plt.plot(tab_strength, res_gd, label=\"GD\")\n",
        "plt.plot(tab_strength, res_agd, label=\"AGD\")\n",
        "plt.plot(tab_strength, res_cgd, label=\"CGD\")\n",
        "plt.plot(tab_strength, res_sgd, label=\"SGD\")\n",
        "plt.plot(tab_strength, res_sag, label=\"SAG\")\n",
        "plt.plot(tab_strength, res_svrg, label=\"SVRG\")\n",
        "\n",
        "plt.title(\"Influence of the level of ridge penalization for the logistic model\")\n",
        "plt.xscale('log')\n",
        "plt.xlabel(\"Penalization values\", fontsize=16)\n",
        "plt.ylabel(\"Loss of minimizers\", fontsize=16)\n",
        "plt.legend()\n",
        "plt.show()"
      ],
      "execution_count": 0,
      "outputs": []
    }
  ]
}